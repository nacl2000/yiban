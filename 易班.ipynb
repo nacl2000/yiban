{
 "cells": [
  {
   "cell_type": "code",
<<<<<<< HEAD
   "execution_count": 3,
   "metadata": {
    "code_folding": [],
    "collapsed": true
   },
   "outputs": [
    {
     "ename": "Exception",
     "evalue": "账号或密码错误",
     "output_type": "error",
     "traceback": [
      "\u001b[1;31m---------------------------------------------------------------------------\u001b[0m",
      "\u001b[1;31mException\u001b[0m                                 Traceback (most recent call last)",
      "\u001b[1;32m<ipython-input-3-692294ed89e9>\u001b[0m in \u001b[0;36m<module>\u001b[1;34m\u001b[0m\n\u001b[0;32m    101\u001b[0m \u001b[1;33m\u001b[0m\u001b[0m\n\u001b[0;32m    102\u001b[0m \u001b[0myb\u001b[0m \u001b[1;33m=\u001b[0m \u001b[0mYiBan\u001b[0m\u001b[1;33m(\u001b[0m\u001b[1;34m\"\"\u001b[0m\u001b[1;33m,\u001b[0m \u001b[1;34m\"\"\u001b[0m\u001b[1;33m)\u001b[0m\u001b[1;33m\u001b[0m\u001b[1;33m\u001b[0m\u001b[0m\n\u001b[1;32m--> 103\u001b[1;33m \u001b[0myb\u001b[0m\u001b[1;33m.\u001b[0m\u001b[0msolve\u001b[0m\u001b[1;33m(\u001b[0m\u001b[1;33m)\u001b[0m\u001b[1;33m\u001b[0m\u001b[1;33m\u001b[0m\u001b[0m\n\u001b[0m\u001b[0;32m    104\u001b[0m \u001b[1;31m# yb.find_src()\u001b[0m\u001b[1;33m\u001b[0m\u001b[1;33m\u001b[0m\u001b[1;33m\u001b[0m\u001b[0m\n",
      "\u001b[1;32m<ipython-input-3-692294ed89e9>\u001b[0m in \u001b[0;36msolve\u001b[1;34m(self)\u001b[0m\n\u001b[0;32m     73\u001b[0m             \u001b[1;31m# self.find_src()\u001b[0m\u001b[1;33m\u001b[0m\u001b[1;33m\u001b[0m\u001b[1;33m\u001b[0m\u001b[0m\n\u001b[0;32m     74\u001b[0m         \u001b[1;32melse\u001b[0m\u001b[1;33m:\u001b[0m\u001b[1;33m\u001b[0m\u001b[1;33m\u001b[0m\u001b[0m\n\u001b[1;32m---> 75\u001b[1;33m             \u001b[1;32mraise\u001b[0m \u001b[0mException\u001b[0m\u001b[1;33m(\u001b[0m\u001b[1;34m\"账号或密码错误\"\u001b[0m\u001b[1;33m)\u001b[0m\u001b[1;33m\u001b[0m\u001b[1;33m\u001b[0m\u001b[0m\n\u001b[0m\u001b[0;32m     76\u001b[0m         \u001b[0murl\u001b[0m \u001b[1;33m=\u001b[0m \u001b[1;34m'http://f.yiban.cn/iapp610661?'\u001b[0m\u001b[1;33m+\u001b[0m\u001b[1;34m'access_token='\u001b[0m\u001b[1;33m+\u001b[0m\u001b[0mself\u001b[0m\u001b[1;33m.\u001b[0m\u001b[0mCSRF\u001b[0m\u001b[1;33m\u001b[0m\u001b[1;33m\u001b[0m\u001b[0m\n\u001b[0;32m     77\u001b[0m         params = {\n",
      "\u001b[1;31mException\u001b[0m: 账号或密码错误"
     ]
    }
   ],
=======
   "execution_count": 2,
   "metadata": {},
   "outputs": [],
>>>>>>> 6b64b47c2e518f364eaf61a0f54cd378dc8e6b44
   "source": [
    "# author nacl\n",
    "import re\n",
    "import requests\n",
    "from lxml import etree\n",
    "import json\n",
    "from urllib import parse\n",
    "from urllib import request\n",
    "import urllib\n",
    "\n",
    "class YiBan:\n",
    "    CSRF = \"3eaa607806835c6f7864c048d05f2ade\"  # 随机值 随便填点东西\n",
    "    COOKIES = {\"logintoken\": CSRF}  # 固定cookie 无需更改\n",
    "    HEADERS = {\"Origin\": \"https://c.uyiban.com\",\n",
    "               \"User-Agent\": \"yiban\"}  # 固定头 无需更改\n",
    "\n",
    "    def __init__(self, account, passwd):\n",
    "        self.account = account\n",
    "        self.passwd = passwd\n",
    "        self.name = \"\"\n",
    "        self.iapp = \"\"\n",
    "\n",
    "    def request(self, url, method=\"get\", params=None, cookies=None):\n",
    "        if method == \"get\":\n",
    "            req = self.session.get(\n",
    "                url, params=params, timeout=10, headers=self.HEADERS, cookies=cookies)\n",
    "        else:\n",
    "            req = self.session.post(\n",
    "                url, data=params, timeout=10, headers=self.HEADERS, cookies=cookies)\n",
    "        try:\n",
    "            return req.json()\n",
    "        except:\n",
    "            return None\n",
    "\n",
    "    def solve(self):\n",
    "        session = requests.session()\n",
    "        headers = {\n",
    "            'Accept': '*/*',\n",
    "            'Origin': 'http://yiban.sust.edu.cn',\n",
    "            'X-Requested-With': 'XMLHttpRequest',\n",
    "            'User-Agent': 'Mozilla/5.0(Linux; Android 9; ANE-AL00 Build/HUAWEIANE-AL00; wv) AppleWebKit/537.36 (KHTML, like Gecko) Version/4.0 Chrome/79.0.3945.116 Mobile Safari/537.36 yiban_android',\n",
    "            'Content-Type': 'application/x-www-form-urlencoded',\n",
    "            'Referer': 'http://yiban.sust.edu.cn/v4/public/index.php/index/formtime/form.html?desgin_id=13&list_id=9&key=PdGKFizOqzlY62Jku8RjPpo6MdGIVYIpPRLcjRocDLnh72NqDE_fdmCSjuFyMwT6RgZgNQN1cfC0eGsZqHucG8S5hnqt7Ougx6aQJTJOdJ_rSYTQ5Gz_sauVB_mVnhLH6A9lhePQ7kVtVNbA4v8Kb7OfpbJUJBr2ddi1JFeni0A=',\n",
    "            'Accept-Encoding': 'gzip, deflate',\n",
    "            'Accept-Language': 'zh-CN,zh;q=0.9,en-US;q=0.8,en;q=0.7',\n",
    "            'Cookie': 'client=android; '\n",
    "        }\n",
<<<<<<< HEAD
    "        data = {\n",
    "            '13[0][0][name]': 'form[13][field_1587635120_1722][]',\n",
    "            '13[0][0][value]': '36.5',\n",
    "            '13[0][1][name]': 'form[13][field_1587635142_8919][]',\n",
    "            '13[0][1][value]': '正常',\n",
    "            '13[0][2][name]': 'form[13][field_1587635252_7450][]',\n",
    "            '13[0][2][value]': '',\n",
    "            '13[0][3][name]': 'form[13][field_1587635509_7740][]',\n",
    "            '13[0][3][value]': '否',\n",
    "            '13[0][4][name]': 'form[13][field_1587998920_6988][]',\n",
    "            '13[0][4][value]': '',\n",
    "            '13[0][5][name]': 'form[13][field_1587998777_8524][]',\n",
    "            '13[0][5][value]': '否',\n",
    "            '13[0][6][name]': 'form[13][field_1587635441_3730][]',\n",
    "            '13[0][6][value]': ''\n",
=======
    "        data={\n",
    "            '13[0][0][name]':'form[13][field_1587635120_1722][]',\n",
    "            '13[0][0][value]':'36.5',\n",
    "            '13[0][1][name]':'form[13][field_1587635142_8919][]',\n",
    "            '13[0][1][value]':'正常',\n",
    "            '13[0][2][name]':'form[13][field_1587635252_7450][]',\n",
    "            '13[0][2][value]':'',\n",
    "            '13[0][3][name]':'form[13][field_1587635509_7740][]',\n",
    "            '13[0][3][value]':'否',\n",
    "            '13[0][4][name]':'form[13][field_1587998920_6988][]',\n",
    "            '13[0][4][value]':'',\n",
    "            '13[0][5][name]':'form[13][field_1587998777_8524][]',\n",
    "            '13[0][5][value]':'否',\n",
    "            '13[0][6][name]':'form[13][field_1587635441_3730][]',\n",
    "            '13[0][6][value]':''\n",
>>>>>>> 6b64b47c2e518f364eaf61a0f54cd378dc8e6b44
    "        }\n",
    "        params = {\n",
    "            \"mobile\": self.account,\n",
    "            \"imei\": \"0\",\n",
    "            \"password\": self.passwd\n",
    "        }\n",
    "        r = session.post('https://mobile.yiban.cn/api/v3/passport/login',data=params, timeout=10, headers=self.HEADERS, cookies=None).json()\n",
    "        #print(r)\n",
    "        if r is not None and str( r[\"response\"] ) == \"100\":\n",
    "            print(r)\n",
    "            self.CSRF = r[\"data\"][\"user\"][\"access_token\"]\n",
    "            # self.find_src()\n",
    "        else:\n",
    "            raise Exception(\"账号或密码错误\")\n",
    "        url = 'http://f.yiban.cn/iapp610661?'+'access_token='+self.CSRF\n",
    "        params = {\n",
    "            'access_token': str(self.CSRF)\n",
    "        }\n",
    "        response = session.get(url=url, headers=headers, params=params)\n",
    "        # print(response.text)\n",
    "        php = response.headers['Set-Cookie']\n",
    "        for s in php:\n",
    "            if s == ';':\n",
    "                break\n",
    "            else:\n",
    "                headers['Cookie'] += s\n",
    "        params = {\n",
    "            'desgin_id': '13',\n",
    "            'list_id': '9'\n",
    "        }\n",
    "        print(headers['Cookie'])\n",
    "        data_json = json.dumps(data)\n",
    "        data_url=urllib.parse.urlencode(data, doseq=True)\n",
    "        #print(data_url)\n",
    "        url = 'http://yiban.sust.edu.cn/v4/public/index.php/Index/formflow/add.html?desgin_id=13&list_id=9 HTTP/1.1'\n",
    "        response = session.post(url=url, headers=headers, params=params,data=data_url)\n",
    "        print(response.json)\n",
    "        print(response.text)\n",
    "\n",
<<<<<<< HEAD
    "\n",
    "yb = YiBan(\"\", \"\")\n",
    "yb.solve()\n",
    "# yb.find_src()"
=======
    "yb = YiBan(\" \",\" \")\n",
    "print(yb.solve())\n",
    "#yb.find_src()"
>>>>>>> 6b64b47c2e518f364eaf61a0f54cd378dc8e6b44
   ]
  },
  {
   "cell_type": "code",
   "execution_count": 6,
   "metadata": {},
   "outputs": [
    {
     "name": "stdout",
     "output_type": "stream",
     "text": [
      "13%5B0%5D%5B0%5D%5Bname%5D%3Dform%5B13%5D%5Bfield_1587635120_1722%5D%5B%5D%2613%5B0%5D%5B0%5D%5Bvalue%5D%3D36.4%2613%5B0%5D%5B1%5D%5Bname%5D%3Dform%5B13%5D%5Bfield_1587635142_8919%5D%5B%5D%2613%5B0%5D%5B1%5D%5Bvalue%5D%3D%E6%AD%A3%E5%B8%B8%2613%5B0%5D%5B2%5D%5Bname%5D%3Dform%5B13%5D%5Bfield_1587635252_7450%5D%5B%5D%2613%5B0%5D%5B2%5D%5Bvalue%5D%3D%24%7Buser.location%7D%2B%2613%5B0%5D%5B3%5D%5Bname%5D%3Dform%5B13%5D%5Bfield_1587635509_7740%5D%5B%5D%2613%5B0%5D%5B3%5D%5Bvalue%5D%3D%E5%90%A6%2613%5B0%5D%5B4%5D%5Bname%5D%3Dform%5B13%5D%5Bfield_1587998920_6988%5D%5B%5D%2613%5B0%5D%5B4%5D%5Bvalue%5D%3D%2613%5B0%5D%5B5%5D%5Bname%5D%3Dform%5B13%5D%5Bfield_1587998777_8524%5D%5B%5D%2613%5B0%5D%5B5%5D%5Bvalue%5D%3D%E5%90%A6%2613%5B0%5D%5B6%5D%5Bname%5D%3Dform%5B13%5D%5Bfield_1587635441_3730%5D%5B%5D%2613%5B0%5D%5B6%5D%5Bvalue%5D%3D\n"
     ]
    }
   ],
   "source": [
    "str1 = '13[0][0][name]=form[13][field_1587635120_1722][]&13[0][0][value]=36.4&13[0][1][name]=form[13][field_1587635142_8919][]&13[0][1][value]=正常&13[0][2][name]=form[13][field_1587635252_7450][]&13[0][2][value]=${user.location}+&13[0][3][name]=form[13][field_1587635509_7740][]&13[0][3][value]=否&13[0][4][name]=form[13][field_1587998920_6988][]&13[0][4][value]=&13[0][5][name]=form[13][field_1587998777_8524][]&13[0][5][value]=否&13[0][6][name]=form[13][field_1587635441_3730][]&13[0][6][value]='\n",
    "str2 = parse.quote(str1)    #将字符串进行编码\n",
    "print(str2)                 #str2=haha%E5%93%88%E5%93%88\n",
    "# str3 = parse.unquote(str2)  #解码字符串\n",
    "# print(str3)                 #str3=haha哈哈"
   ]
  },
  {
   "cell_type": "code",
   "execution_count": null,
   "metadata": {},
   "outputs": [],
   "source": []
  }
 ],
 "metadata": {
  "kernelspec": {
   "display_name": "Python 3",
   "language": "python",
   "name": "python3"
  },
  "language_info": {
   "codemirror_mode": {
    "name": "ipython",
    "version": 3
   },
   "file_extension": ".py",
   "mimetype": "text/x-python",
   "name": "python",
   "nbconvert_exporter": "python",
   "pygments_lexer": "ipython3",
   "version": "3.8.5"
  }
 },
 "nbformat": 4,
 "nbformat_minor": 4
}
